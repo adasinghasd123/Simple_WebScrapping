{
  "nbformat": 4,
  "nbformat_minor": 0,
  "metadata": {
    "colab": {
      "name": "Untitled9.ipynb",
      "provenance": []
    },
    "kernelspec": {
      "name": "python3",
      "display_name": "Python 3"
    },
    "language_info": {
      "name": "python"
    }
  },
  "cells": [
    {
      "cell_type": "markdown",
      "metadata": {
        "id": "rZcEqtahGweN"
      },
      "source": [
        "**Import The Libraries**"
      ]
    },
    {
      "cell_type": "code",
      "metadata": {
        "id": "msdEoSLtGR2d"
      },
      "source": [
        "import requests\n",
        "from bs4 import BeautifulSoup\n",
        "import csv"
      ],
      "execution_count": 1,
      "outputs": []
    },
    {
      "cell_type": "markdown",
      "metadata": {
        "id": "951a5Z1FG7Ff"
      },
      "source": [
        "**Get the HTML**"
      ]
    },
    {
      "cell_type": "code",
      "metadata": {
        "id": "Rcm_8G3DGT2S"
      },
      "source": [
        "URL = \"http://www.values.com/inspirational-quotes\"\n",
        "r = requests.get(URL)"
      ],
      "execution_count": 2,
      "outputs": []
    },
    {
      "cell_type": "markdown",
      "metadata": {
        "id": "kaS45yE9G9K7"
      },
      "source": [
        "**Parse the HTML**"
      ]
    },
    {
      "cell_type": "code",
      "metadata": {
        "id": "SM81xPlgGXPq"
      },
      "source": [
        "soup = BeautifulSoup(r.content, 'html5lib')"
      ],
      "execution_count": 3,
      "outputs": []
    },
    {
      "cell_type": "markdown",
      "metadata": {
        "id": "tD2sWYk-HBD0"
      },
      "source": [
        "**Find the Quotes and Store It in a List**"
      ]
    },
    {
      "cell_type": "code",
      "metadata": {
        "id": "_s8BZTmwGbi9"
      },
      "source": [
        "quotes=[]  \n",
        "   \n",
        "table = soup.find('div', attrs = {'id':'all_quotes'}) \n",
        "   \n",
        "for row in table.findAll('div',\n",
        "                         attrs = {'class':'col-6 col-lg-3 text-center margin-30px-bottom sm-margin-30px-top'}):\n",
        "    quote = {}\n",
        "    quote['theme'] = row.h5.text\n",
        "    quote['url'] = row.a['href']\n",
        "    quote['img'] = row.img['src']\n",
        "    quote['lines'] = row.img['alt'].split(\" #\")[0]\n",
        "    quote['author'] = row.img['alt'].split(\" #\")[1]\n",
        "    quotes.append(quote)"
      ],
      "execution_count": 4,
      "outputs": []
    },
    {
      "cell_type": "markdown",
      "metadata": {
        "id": "9qkzLBDQHHUA"
      },
      "source": [
        "**Now store that List in a csv file**"
      ]
    },
    {
      "cell_type": "code",
      "metadata": {
        "id": "8C47mh1IGcmW"
      },
      "source": [
        "filename = 'inspirational_quotes.csv'\n",
        "with open(filename, 'w', newline='') as f:\n",
        "    w = csv.DictWriter(f,['theme','url','img','lines','author'])\n",
        "    w.writeheader()\n",
        "    for quote in quotes:\n",
        "        w.writerow(quote)"
      ],
      "execution_count": 5,
      "outputs": []
    },
    {
      "cell_type": "code",
      "metadata": {
        "id": "I__glxr6Gfwl"
      },
      "source": [
        ""
      ],
      "execution_count": null,
      "outputs": []
    }
  ]
}